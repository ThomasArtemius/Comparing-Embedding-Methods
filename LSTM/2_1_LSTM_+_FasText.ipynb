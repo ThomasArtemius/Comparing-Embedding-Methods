{
  "cells": [
    {
      "cell_type": "markdown",
      "metadata": {
        "id": "_ulpEzetbibm"
      },
      "source": [
        "# Section 1: Dataset Selection & Cleaning"
      ]
    },
    {
      "cell_type": "code",
      "execution_count": null,
      "metadata": {
        "colab": {
          "base_uri": "https://localhost:8080/"
        },
        "collapsed": true,
        "id": "vhPUNwhggwoc",
        "outputId": "2214ac3b-e7a4-4d20-c352-c00eee9937e9"
      },
      "outputs": [
        {
          "name": "stdout",
          "output_type": "stream",
          "text": [
            "Drive already mounted at /content/drive; to attempt to forcibly remount, call drive.mount(\"/content/drive\", force_remount=True).\n",
            "           sumber     tanggal        kategori  \\\n",
            "0  tribunnews.com  2015/11/01  Bisnis Ekonomi   \n",
            "1  tribunnews.com  2015/11/01  Bisnis Ekonomi   \n",
            "2  tribunnews.com  2015/11/01  Bisnis Ekonomi   \n",
            "3  tribunnews.com  2015/11/01  Bisnis Ekonomi   \n",
            "4  tribunnews.com  2015/11/01  Bisnis Ekonomi   \n",
            "\n",
            "                                               judul  \\\n",
            "0  Anggota DPR: Kenapa BUMN Diberi Subsidi Rakyat...   \n",
            "1  DPR Bingung Anggaran Subsidi Listrik Rp 38 Tri...   \n",
            "2  Jatah Subsidi Listrik Berkurang Picu Kecemburu...   \n",
            "3  Migrasi Penggunaan Daya Listrik Dinilai Bisa B...   \n",
            "4  Citi Indonesia Merevolusi Pengalaman Perbankan...   \n",
            "\n",
            "                                                 isi  \\\n",
            "0  TRIBUNNEWS.COM, JAKARTA - Anggota Komisi VII D...   \n",
            "1  TRIBUNNEWS.COM, JAKARTA - Anggota Komisi VII D...   \n",
            "2  TRIBUNNEWS.COM, JAKARTA - Pengamat Ekonomi dar...   \n",
            "3  TRIBUNNEWS.COM, JAKARTA - Rencana pemerintah y...   \n",
            "4  TRIBUNNEWS.COM, JAKARTA - Sebagai bentuk konsi...   \n",
            "\n",
            "                                                link  jumlahkata  \n",
            "0  http://www.tribunnews.com/bisnis/2015/11/01/an...         120  \n",
            "1  http://www.tribunnews.com/bisnis/2015/11/01/dp...         162  \n",
            "2  http://www.tribunnews.com/bisnis/2015/11/01/ja...         191  \n",
            "3  http://www.tribunnews.com/bisnis/2015/11/01/mi...         133  \n",
            "4  http://www.tribunnews.com/bisnis/2015/11/01/ci...         336  \n"
          ]
        }
      ],
      "source": [
        "from google.colab import drive\n",
        "import pandas as pd\n",
        "import json\n",
        "\n",
        "# Mount Google Drive\n",
        "drive.mount('/content/drive')\n",
        "\n",
        "# Load the dataset\n",
        "file_path = '/content/drive/My Drive/MKA_Advance_NLP/1st_Assignment/IndoNewsCorpus_Dataset/november.json'\n",
        "with open(file_path, 'r') as f:\n",
        "    data = json.load(f)\n",
        "\n",
        "# Convert JSON to DataFrame\n",
        "df = pd.DataFrame(data)\n",
        "print(df.head())\n"
      ]
    },
    {
      "cell_type": "code",
      "execution_count": null,
      "metadata": {
        "colab": {
          "base_uri": "https://localhost:8080/"
        },
        "id": "t-Pw0M5GRvSs",
        "outputId": "81a21878-d69d-4fb2-f5ff-3f557918cf68"
      },
      "outputs": [
        {
          "name": "stderr",
          "output_type": "stream",
          "text": [
            "[nltk_data] Downloading package punkt_tab to /root/nltk_data...\n",
            "[nltk_data]   Package punkt_tab is already up-to-date!\n",
            "[nltk_data] Downloading package stopwords to /root/nltk_data...\n",
            "[nltk_data]   Package stopwords is already up-to-date!\n"
          ]
        },
        {
          "name": "stdout",
          "output_type": "stream",
          "text": [
            "Training set size: 16934\n",
            "Validation set size: 2419\n",
            "Test set size: 4839\n"
          ]
        }
      ],
      "source": [
        "import re\n",
        "from sklearn.model_selection import train_test_split\n",
        "import nltk\n",
        "from nltk.corpus import stopwords\n",
        "from nltk.tokenize import word_tokenize\n",
        "\n",
        "nltk.download('punkt_tab')\n",
        "nltk.download('stopwords')\n",
        "\n",
        "indonesian_stopwords = set(stopwords.words('indonesian'))\n",
        "\n",
        "def preprocess_text(text):\n",
        "    text = text.lower()\n",
        "\n",
        "    text = re.sub(r'[^\\w\\s]', '', text)  # Remove punctuation\n",
        "    text = re.sub(r'\\d+', '', text)      # Remove numbers\n",
        "\n",
        "    tokens = word_tokenize(text)\n",
        "    tokens = [word for word in tokens if word not in indonesian_stopwords]\n",
        "\n",
        "    return ' '.join(tokens)\n",
        "\n",
        "# Apply preprocessing to the 'isi' column (article content)\n",
        "df['cleaned_isi'] = df['isi'].apply(preprocess_text)\n",
        "\n",
        "# Split into training (70%), validation (10%), and test (20%) sets\n",
        "train_texts, temp_texts, train_labels, temp_labels = train_test_split(\n",
        "    df['cleaned_isi'], df['kategori'], test_size=0.3, random_state=42)\n",
        "\n",
        "val_texts, test_texts, val_labels, test_labels = train_test_split(\n",
        "    temp_texts, temp_labels, test_size=2/3, random_state=42)  # Split remaining 30% into 10% and 20%\n",
        "\n",
        "print(f\"Training set size: {len(train_texts)}\")\n",
        "print(f\"Validation set size: {len(val_texts)}\")\n",
        "print(f\"Test set size: {len(test_texts)}\")"
      ]
    },
    {
      "cell_type": "markdown",
      "metadata": {
        "id": "hdoOwo_hca4y"
      },
      "source": [
        "# Section 2: Methods"
      ]
    },
    {
      "cell_type": "markdown",
      "metadata": {
        "id": "ukQchtenbsgq"
      },
      "source": [
        "## 2.1 LSTM + FastText\n"
      ]
    },
    {
      "cell_type": "markdown",
      "metadata": {
        "id": "VyUevRPHUhGT"
      },
      "source": [
        "1. Install Required Libraries"
      ]
    },
    {
      "cell_type": "code",
      "execution_count": null,
      "metadata": {
        "collapsed": true,
        "id": "Xd5IxXHFb8Vm"
      },
      "outputs": [],
      "source": [
        "!pip install flair tensorflow==2.12 --quiet"
      ]
    },
    {
      "cell_type": "markdown",
      "metadata": {
        "id": "wu1BeuFaUlsl"
      },
      "source": [
        "2. Load Pre-trained FastText Embeddings"
      ]
    },
    {
      "cell_type": "code",
      "execution_count": null,
      "metadata": {
        "colab": {
          "base_uri": "https://localhost:8080/"
        },
        "id": "hf2V3kHteVEo",
        "outputId": "6dbb8679-362a-46b9-ddac-07a63e5ee37e"
      },
      "outputs": [
        {
          "name": "stdout",
          "output_type": "stream",
          "text": [
            "Train embeddings shape: 16934\n",
            "Validation embeddings shape: 2419\n",
            "Test embeddings shape: 4839\n"
          ]
        }
      ],
      "source": [
        "import torch\n",
        "from flair.embeddings import WordEmbeddings, DocumentPoolEmbeddings\n",
        "from flair.data import Sentence\n",
        "import numpy as np\n",
        "\n",
        "torch.set_default_tensor_type('torch.FloatTensor')\n",
        "\n",
        "# Load pre-trained FastText embeddings via Flair\n",
        "fasttext_embedding = WordEmbeddings('id')  # 'id' is for Indonesian FastText embeddings\n",
        "document_embeddings = DocumentPoolEmbeddings([fasttext_embedding])\n",
        "\n",
        "# Function to generate document embeddings for a list of texts\n",
        "def generate_flair_embeddings(texts):\n",
        "    embeddings = []\n",
        "    for text in texts:\n",
        "        sentence = Sentence(text)\n",
        "        document_embeddings.embed(sentence)\n",
        "        embeddings.append(sentence.get_embedding().cpu().numpy())\n",
        "    return np.array(embeddings)\n",
        "\n",
        "X_train_flair = generate_flair_embeddings(train_texts)\n",
        "X_val_flair = generate_flair_embeddings(val_texts)\n",
        "X_test_flair = generate_flair_embeddings(test_texts)\n",
        "\n",
        "print(f\"Train embeddings shape: {len(X_train_flair)}\")\n",
        "print(f\"Validation embeddings shape: {len(X_val_flair)}\")\n",
        "print(f\"Test embeddings shape: {len(X_test_flair)}\")"
      ]
    },
    {
      "cell_type": "markdown",
      "metadata": {
        "id": "ec4KbqqaUogh"
      },
      "source": [
        "3. Build and Compile the LSTM Model"
      ]
    },
    {
      "cell_type": "code",
      "execution_count": null,
      "metadata": {
        "colab": {
          "base_uri": "https://localhost:8080/"
        },
        "id": "1jPADQCXUEfC",
        "outputId": "4de0e1e4-c8f4-4582-a40c-ea8c3756316b"
      },
      "outputs": [
        {
          "name": "stdout",
          "output_type": "stream",
          "text": [
            "Model: \"sequential\"\n",
            "_________________________________________________________________\n",
            " Layer (type)                Output Shape              Param #   \n",
            "=================================================================\n",
            " lstm (LSTM)                 (None, 1, 128)            219648    \n",
            "                                                                 \n",
            " dropout (Dropout)           (None, 1, 128)            0         \n",
            "                                                                 \n",
            " lstm_1 (LSTM)               (None, 64)                49408     \n",
            "                                                                 \n",
            " dropout_1 (Dropout)         (None, 64)                0         \n",
            "                                                                 \n",
            " dense (Dense)               (None, 8)                 520       \n",
            "                                                                 \n",
            "=================================================================\n",
            "Total params: 269,576\n",
            "Trainable params: 269,576\n",
            "Non-trainable params: 0\n",
            "_________________________________________________________________\n",
            "None\n"
          ]
        }
      ],
      "source": [
        "from tensorflow.keras.models import Sequential\n",
        "from tensorflow.keras.layers import Dense, LSTM, Dropout, Input\n",
        "\n",
        "X_train_flair = X_train_flair.reshape(X_train_flair.shape[0], 1, X_train_flair.shape[1])\n",
        "\n",
        "model = Sequential([\n",
        "    Input(shape=(X_train_flair.shape[1], X_train_flair.shape[2])),\n",
        "    LSTM(128, return_sequences=True, recurrent_activation='sigmoid'),\n",
        "    Dropout(0.5),\n",
        "    LSTM(64, return_sequences=False, recurrent_activation='sigmoid'),\n",
        "    Dropout(0.5),\n",
        "    Dense(len(set(train_labels)), activation='softmax')\n",
        "])\n",
        "\n",
        "# Compile the model\n",
        "model.compile(optimizer='adam', loss='sparse_categorical_crossentropy', metrics=['accuracy'])\n",
        "print(model.summary())"
      ]
    },
    {
      "cell_type": "markdown",
      "metadata": {
        "id": "8_eX7BOLUsqJ"
      },
      "source": [
        "4. Train the Model"
      ]
    },
    {
      "cell_type": "code",
      "execution_count": null,
      "metadata": {
        "colab": {
          "base_uri": "https://localhost:8080/"
        },
        "id": "6r88AU-6UHBE",
        "outputId": "22ecc43c-8ce4-4d89-e2fd-c2ebf617c1c6"
      },
      "outputs": [
        {
          "name": "stdout",
          "output_type": "stream",
          "text": [
            "Epoch 1/10\n",
            "530/530 [==============================] - 8s 7ms/step - loss: 0.7579 - accuracy: 0.7473 - val_loss: 0.4142 - val_accuracy: 0.8640\n",
            "Epoch 2/10\n",
            "530/530 [==============================] - 3s 5ms/step - loss: 0.4184 - accuracy: 0.8643 - val_loss: 0.3559 - val_accuracy: 0.8768\n",
            "Epoch 3/10\n",
            "530/530 [==============================] - 3s 5ms/step - loss: 0.3685 - accuracy: 0.8774 - val_loss: 0.3298 - val_accuracy: 0.8871\n",
            "Epoch 4/10\n",
            "530/530 [==============================] - 3s 5ms/step - loss: 0.3476 - accuracy: 0.8853 - val_loss: 0.3268 - val_accuracy: 0.8855\n",
            "Epoch 5/10\n",
            "530/530 [==============================] - 3s 5ms/step - loss: 0.3352 - accuracy: 0.8876 - val_loss: 0.3394 - val_accuracy: 0.8818\n",
            "Epoch 6/10\n",
            "530/530 [==============================] - 3s 5ms/step - loss: 0.3256 - accuracy: 0.8919 - val_loss: 0.3315 - val_accuracy: 0.8892\n",
            "Epoch 7/10\n",
            "530/530 [==============================] - 3s 5ms/step - loss: 0.3169 - accuracy: 0.8941 - val_loss: 0.3171 - val_accuracy: 0.8896\n",
            "Epoch 8/10\n",
            "530/530 [==============================] - 3s 5ms/step - loss: 0.3097 - accuracy: 0.8977 - val_loss: 0.3099 - val_accuracy: 0.8933\n",
            "Epoch 9/10\n",
            "530/530 [==============================] - 3s 5ms/step - loss: 0.3054 - accuracy: 0.8984 - val_loss: 0.3064 - val_accuracy: 0.8888\n",
            "Epoch 10/10\n",
            "530/530 [==============================] - 3s 5ms/step - loss: 0.2957 - accuracy: 0.9003 - val_loss: 0.3173 - val_accuracy: 0.8888\n"
          ]
        }
      ],
      "source": [
        "from tensorflow.keras.callbacks import EarlyStopping\n",
        "\n",
        "from sklearn.preprocessing import LabelEncoder\n",
        "\n",
        "label_encoder = LabelEncoder()\n",
        "train_labels_encoded = label_encoder.fit_transform(train_labels)\n",
        "val_labels_encoded = label_encoder.transform(val_labels)\n",
        "test_labels_encoded = label_encoder.transform(test_labels)\n",
        "\n",
        "# Reshape X_val_flair and X_test_flair to match X_train_flair\n",
        "X_val_flair = X_val_flair.reshape(X_val_flair.shape[0], 1, X_val_flair.shape[1])\n",
        "X_test_flair = X_test_flair.reshape(X_test_flair.shape[0], 1, X_test_flair.shape[1])\n",
        "\n",
        "# Train the model with early stopping to prevent overfitting\n",
        "early_stopping = EarlyStopping(monitor='val_loss', patience=3, restore_best_weights=True)\n",
        "\n",
        "lstm_FastText = model.fit(\n",
        "    X_train_flair,\n",
        "    train_labels_encoded,\n",
        "    validation_data=(X_val_flair, val_labels_encoded),\n",
        "    epochs=10,\n",
        "    batch_size=32,\n",
        "    callbacks=[early_stopping]\n",
        ")"
      ]
    },
    {
      "cell_type": "markdown",
      "metadata": {
        "id": "wWyFZlgJUvyL"
      },
      "source": [
        "5. Evaluate the Model and Generate Metrics"
      ]
    },
    {
      "cell_type": "code",
      "execution_count": null,
      "metadata": {
        "colab": {
          "base_uri": "https://localhost:8080/",
          "height": 853
        },
        "id": "YcMCC7sGUITU",
        "outputId": "78dfa2e1-7a4e-48c6-9dbf-5c83d8508f01"
      },
      "outputs": [
        {
          "name": "stdout",
          "output_type": "stream",
          "text": [
            "152/152 [==============================] - 1s 2ms/step\n",
            "Classification Report:\n",
            "              precision    recall  f1-score   support\n",
            "\n",
            "           0       0.85      0.79      0.82       773\n",
            "           1       0.97      1.00      0.99       686\n",
            "           2       0.84      0.61      0.70       196\n",
            "           3       0.91      0.96      0.93      2371\n",
            "           4       0.97      0.88      0.93       274\n",
            "           5       0.90      0.91      0.91       154\n",
            "           6       0.86      0.84      0.85       236\n",
            "           7       0.79      0.79      0.79       149\n",
            "\n",
            "    accuracy                           0.91      4839\n",
            "   macro avg       0.89      0.85      0.86      4839\n",
            "weighted avg       0.90      0.91      0.90      4839\n",
            "\n"
          ]
        },
        {
          "data": {
            "text/plain": [
              "<sklearn.metrics._plot.confusion_matrix.ConfusionMatrixDisplay at 0x78e22fce3a10>"
            ]
          },
          "execution_count": 12,
          "metadata": {},
          "output_type": "execute_result"
        },
        {
          "data": {
            "image/png": "[encoded data removed]",
            "text/plain": [
              "<Figure size 640x480 with 2 Axes>"
            ]
          },
          "metadata": {},
          "output_type": "display_data"
        }
      ],
      "source": [
        "from sklearn.metrics import classification_report, confusion_matrix, ConfusionMatrixDisplay\n",
        "\n",
        "test_predictions = model.predict(X_test_flair).argmax(axis=1)\n",
        "\n",
        "print(\"Classification Report:\")\n",
        "print(classification_report(test_labels_encoded, test_predictions))\n",
        "\n",
        "conf_matrix = confusion_matrix(test_labels_encoded, test_predictions)\n",
        "disp = ConfusionMatrixDisplay(confusion_matrix=conf_matrix, display_labels=label_encoder.classes_)\n",
        "disp.plot(cmap=\"Blues\", xticks_rotation='vertical')"
      ]
    }
  ],
  "metadata": {
    "accelerator": "GPU",
    "colab": {
      "collapsed_sections": [
        "_ulpEzetbibm",
        "98Ct3hQ6b9-S"
      ],
      "gpuType": "A100",
      "machine_shape": "hm",
      "provenance": [],
      "toc_visible": true
    },
    "kernelspec": {
      "display_name": "Python 3",
      "name": "python3"
    },
    "language_info": {
      "name": "python"
    }
  },
  "nbformat": 4,
  "nbformat_minor": 0
}